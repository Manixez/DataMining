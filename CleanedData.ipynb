{
 "cells": [
  {
   "cell_type": "code",
   "execution_count": 2,
   "id": "0e3d6840",
   "metadata": {},
   "outputs": [],
   "source": [
    "import pandas as pd\n",
    "import openpyxl\n",
    "from openpyxl.styles import PatternFill"
   ]
  },
  {
   "cell_type": "code",
   "execution_count": 35,
   "id": "b36dc8f0",
   "metadata": {},
   "outputs": [],
   "source": [
    "# Load dataset\n",
    "file_path = 'Data/Data_BBNI.xlsx'\n",
    "df = pd.read_excel(file_path)\n"
   ]
  },
  {
   "cell_type": "code",
   "execution_count": 30,
   "id": "b58048e4",
   "metadata": {},
   "outputs": [
    {
     "name": "stdout",
     "output_type": "stream",
     "text": [
      "Data dengan Volume = 0:\n",
      "           Date     Open     High      Low    Close  Volume\n",
      "65   2009-04-09   455.17   455.17   455.17   455.17       0\n",
      "93   2009-05-21   526.06   526.06   526.06   526.06       0\n",
      "127  2009-07-08   546.19   546.19   546.19   546.19       0\n",
      "135  2009-07-20   561.36   561.36   561.36   561.36       0\n",
      "613  2011-07-04  1228.05  1228.05  1228.05  1228.05       0\n",
      "...         ...      ...      ...      ...      ...     ...\n",
      "2586 2019-06-05  5047.97  5047.97  5047.97  5047.97       0\n",
      "2587 2019-06-06  5047.97  5047.97  5047.97  5047.97       0\n",
      "2588 2019-06-07  5047.97  5047.97  5047.97  5047.97       0\n",
      "2784 2020-03-13  4837.72  4837.72  4837.72  4837.72       0\n",
      "2785 2020-03-16  4837.72  4837.72  4837.72  4837.72       0\n",
      "\n",
      "[80 rows x 6 columns]\n"
     ]
    }
   ],
   "source": [
    "# Step 1: Menampilkan baris dengan Volume = 0\n",
    "missing_volume_data = df[df['Volume'] == 0]\n",
    "print(\"Data dengan Volume = 0:\")\n",
    "print(missing_volume_data)"
   ]
  },
  {
   "cell_type": "code",
   "execution_count": 28,
   "id": "65a5a75f",
   "metadata": {},
   "outputs": [
    {
     "name": "stdout",
     "output_type": "stream",
     "text": [
      "File Excel yang sudah dimodifikasi telah disimpan di Data/Data_BMRI_Highlighted.xlsx\n"
     ]
    }
   ],
   "source": [
    "# Step 2: Mengubah file Excel dengan warna berdasarkan nilai volume di seluruh baris\n",
    "output_path = 'Data/Data_BMRI_Highlighted.xlsx'\n",
    "\n",
    "with pd.ExcelWriter(output_path, engine='openpyxl') as writer:\n",
    "    df.to_excel(writer, index=False, sheet_name='Sheet1')\n",
    "\n",
    "    # Mendapatkan akses ke workbook dan sheet yang telah dibuat\n",
    "    workbook = writer.book\n",
    "    sheet = workbook['Sheet1']\n",
    "\n",
    "    # Menentukan warna untuk masing-masing kondisi\n",
    "    yellow_fill = PatternFill(start_color=\"FFFF00\", end_color=\"FFFF00\", fill_type=\"solid\")  # Kuning untuk Volume = 0\n",
    "    light_blue_fill = PatternFill(start_color=\"ADD8E6\", end_color=\"ADD8E6\", fill_type=\"solid\")  # Biru muda untuk Volume < 1000\n",
    "\n",
    "    # Iterasi melalui baris dan beri warna pada seluruh baris berdasarkan nilai pada kolom 'Volume'\n",
    "    for row in range(2, len(df) + 2):  # Mulai dari 2 untuk melewati header\n",
    "        volume_value = sheet.cell(row=row, column=6).value  # Kolom 6 adalah 'Volume'\n",
    "        \n",
    "        if volume_value == 0:\n",
    "            # Warna kuning untuk seluruh baris dengan Volume = 0\n",
    "            for col in range(1, len(df.columns) + 1):\n",
    "                sheet.cell(row=row, column=col).fill = yellow_fill  # Set warna kuning pada seluruh baris\n",
    "        elif volume_value < 1000:\n",
    "            # Warna biru muda untuk seluruh baris dengan Volume < 1000\n",
    "            for col in range(1, len(df.columns) + 1):\n",
    "                sheet.cell(row=row, column=col).fill = light_blue_fill  # Set warna biru muda pada seluruh baris\n",
    "\n",
    "# Menyimpan file yang sudah dimodifikasi\n",
    "workbook.save(output_path)\n",
    "\n",
    "print(f\"File Excel yang sudah dimodifikasi telah disimpan di {output_path}\")"
   ]
  },
  {
   "cell_type": "code",
   "execution_count": 36,
   "id": "4dd4c1b1",
   "metadata": {},
   "outputs": [
    {
     "name": "stdout",
     "output_type": "stream",
     "text": [
      "\n",
      "Data setelah penghapusan baris dengan Volume = 0:\n",
      "        Date    Open    High     Low   Close     Volume\n",
      "0 2009-01-05  212.93  218.85  204.06  212.93  169679998\n",
      "1 2009-01-06  212.93  218.85  207.02  215.89  178163110\n",
      "2 2009-01-07  218.85  236.59  212.93  218.85  362082536\n",
      "3 2009-01-08  212.93  227.72  212.93  224.76  101147456\n",
      "4 2009-01-09  233.63  233.63  224.76  233.63  142374167\n",
      "\n",
      "Dataset yang telah dibersihkan telah disimpan.\n"
     ]
    }
   ],
   "source": [
    "# Step 3: Menghapus baris dengan Volume = 0\n",
    "df_cleaned = df[df['Volume'] != 0]\n",
    "\n",
    "# Step 4: Menampilkan hasil setelah penghapusan\n",
    "print(\"\\nData setelah penghapusan baris dengan Volume = 0:\")\n",
    "print(df_cleaned.head())\n",
    "\n",
    "# Menyimpan dataset yang telah dibersihkan ke file baru\n",
    "df_cleaned.to_excel('Data/DataCleaned/Data_BBNI_Cleaned.xlsx', index=False)\n",
    "print(\"\\nDataset yang telah dibersihkan telah disimpan.\")"
   ]
  }
 ],
 "metadata": {
  "kernelspec": {
   "display_name": "DataMining",
   "language": "python",
   "name": "python3"
  },
  "language_info": {
   "codemirror_mode": {
    "name": "ipython",
    "version": 3
   },
   "file_extension": ".py",
   "mimetype": "text/x-python",
   "name": "python",
   "nbconvert_exporter": "python",
   "pygments_lexer": "ipython3",
   "version": "3.10.16"
  }
 },
 "nbformat": 4,
 "nbformat_minor": 5
}
