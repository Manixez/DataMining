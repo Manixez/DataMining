{
 "cells": [
  {
   "cell_type": "code",
   "execution_count": 6,
   "id": "8f2dba9b",
   "metadata": {},
   "outputs": [],
   "source": [
    "import yfinance as yf\n",
    "import pandas as pd\n",
    "import time\n",
    "import os"
   ]
  },
  {
   "cell_type": "code",
   "execution_count": 8,
   "id": "f462161b",
   "metadata": {},
   "outputs": [
    {
     "name": "stderr",
     "output_type": "stream",
     "text": [
      "C:\\Users\\Lenovo\\AppData\\Local\\Temp\\ipykernel_3660\\33581551.py:38: FutureWarning: DataFrame.applymap has been deprecated. Use DataFrame.map instead.\n",
      "  df = df.applymap(escape_formula)\n"
     ]
    },
    {
     "name": "stdout",
     "output_type": "stream",
     "text": [
      "Data untuk periode 2009-01-01 sampai 2010-12-31 berhasil diambil.\n"
     ]
    },
    {
     "name": "stderr",
     "output_type": "stream",
     "text": [
      "C:\\Users\\Lenovo\\AppData\\Local\\Temp\\ipykernel_3660\\33581551.py:38: FutureWarning: DataFrame.applymap has been deprecated. Use DataFrame.map instead.\n",
      "  df = df.applymap(escape_formula)\n"
     ]
    },
    {
     "name": "stdout",
     "output_type": "stream",
     "text": [
      "Data untuk periode 2011-01-01 sampai 2012-12-31 berhasil diambil.\n"
     ]
    },
    {
     "name": "stderr",
     "output_type": "stream",
     "text": [
      "C:\\Users\\Lenovo\\AppData\\Local\\Temp\\ipykernel_3660\\33581551.py:38: FutureWarning: DataFrame.applymap has been deprecated. Use DataFrame.map instead.\n",
      "  df = df.applymap(escape_formula)\n"
     ]
    },
    {
     "name": "stdout",
     "output_type": "stream",
     "text": [
      "Data untuk periode 2013-01-01 sampai 2014-12-31 berhasil diambil.\n"
     ]
    },
    {
     "name": "stderr",
     "output_type": "stream",
     "text": [
      "C:\\Users\\Lenovo\\AppData\\Local\\Temp\\ipykernel_3660\\33581551.py:38: FutureWarning: DataFrame.applymap has been deprecated. Use DataFrame.map instead.\n",
      "  df = df.applymap(escape_formula)\n"
     ]
    },
    {
     "name": "stdout",
     "output_type": "stream",
     "text": [
      "Data untuk periode 2015-01-01 sampai 2016-12-31 berhasil diambil.\n"
     ]
    },
    {
     "name": "stderr",
     "output_type": "stream",
     "text": [
      "C:\\Users\\Lenovo\\AppData\\Local\\Temp\\ipykernel_3660\\33581551.py:38: FutureWarning: DataFrame.applymap has been deprecated. Use DataFrame.map instead.\n",
      "  df = df.applymap(escape_formula)\n"
     ]
    },
    {
     "name": "stdout",
     "output_type": "stream",
     "text": [
      "Data untuk periode 2017-01-01 sampai 2018-12-31 berhasil diambil.\n"
     ]
    },
    {
     "name": "stderr",
     "output_type": "stream",
     "text": [
      "C:\\Users\\Lenovo\\AppData\\Local\\Temp\\ipykernel_3660\\33581551.py:38: FutureWarning: DataFrame.applymap has been deprecated. Use DataFrame.map instead.\n",
      "  df = df.applymap(escape_formula)\n"
     ]
    },
    {
     "name": "stdout",
     "output_type": "stream",
     "text": [
      "Data untuk periode 2019-01-01 sampai 2020-12-31 berhasil diambil.\n"
     ]
    },
    {
     "name": "stderr",
     "output_type": "stream",
     "text": [
      "C:\\Users\\Lenovo\\AppData\\Local\\Temp\\ipykernel_3660\\33581551.py:38: FutureWarning: DataFrame.applymap has been deprecated. Use DataFrame.map instead.\n",
      "  df = df.applymap(escape_formula)\n"
     ]
    },
    {
     "name": "stdout",
     "output_type": "stream",
     "text": [
      "Data untuk periode 2021-01-01 sampai 2022-12-31 berhasil diambil.\n"
     ]
    },
    {
     "name": "stderr",
     "output_type": "stream",
     "text": [
      "C:\\Users\\Lenovo\\AppData\\Local\\Temp\\ipykernel_3660\\33581551.py:38: FutureWarning: DataFrame.applymap has been deprecated. Use DataFrame.map instead.\n",
      "  df = df.applymap(escape_formula)\n"
     ]
    },
    {
     "name": "stdout",
     "output_type": "stream",
     "text": [
      "Data untuk periode 2023-01-01 sampai 2025-04-30 berhasil diambil.\n",
      "File berhasil disimpan di Data/Data_BMRI.xlsx\n"
     ]
    }
   ],
   "source": [
    "# Daftar periode yang ingin diambil\n",
    "years = [\n",
    "    (\"2009-01-01\", \"2010-12-31\"),\n",
    "    (\"2011-01-01\", \"2012-12-31\"),\n",
    "    (\"2013-01-01\", \"2014-12-31\"),\n",
    "    (\"2015-01-01\", \"2016-12-31\"),\n",
    "    (\"2017-01-01\", \"2018-12-31\"),\n",
    "    (\"2019-01-01\", \"2020-12-31\"),\n",
    "    (\"2021-01-01\", \"2022-12-31\"),\n",
    "    (\"2023-01-01\", \"2025-04-30\")  # Menyesuaikan sampai tanggal sekarang\n",
    "]\n",
    "\n",
    "# Tempat untuk menyimpan data\n",
    "all_data = []\n",
    "\n",
    "# Loop untuk mengambil data per periode 2 tahun\n",
    "for start_date, end_date in years:\n",
    "    ticker = yf.Ticker(\"BMRI.JK\")\n",
    "    \n",
    "    # Menambahkan delay antar permintaan untuk menghindari pembatasan\n",
    "    try:\n",
    "        df = ticker.history(start=start_date, end=end_date, actions=False)  # actions=False untuk menghindari Dividends dan Stock Splits\n",
    "        # Reset index agar kolom tanggal jadi biasa\n",
    "        df = df.reset_index()\n",
    "\n",
    "        # Buang timezone dari kolom datetime\n",
    "        df['Date'] = df['Date'].dt.tz_localize(None)\n",
    "\n",
    "        # Bulatkan semua nilai numerik ke 2 angka di belakang koma\n",
    "        df = df.round(2)\n",
    "\n",
    "        # Cegah error Excel: tambahkan apostrof ke string yang dimulai dengan '=' atau '-'\n",
    "        def escape_formula(val):\n",
    "            if isinstance(val, str) and (val.startswith('=') or val.startswith('-')):\n",
    "                return f\"'{val}\"\n",
    "            return val\n",
    "\n",
    "        df = df.applymap(escape_formula)\n",
    "\n",
    "        # Tambahkan data yang sudah diambil ke list\n",
    "        all_data.append(df)\n",
    "\n",
    "        print(f\"Data untuk periode {start_date} sampai {end_date} berhasil diambil.\")\n",
    "        \n",
    "        # Tambahkan delay 10 detik agar tidak terkena rate limit\n",
    "        time.sleep(10)  # Menunggu 10 detik antara permintaan\n",
    "\n",
    "    except Exception as e:\n",
    "        print(f\"Terjadi kesalahan saat mengambil data untuk periode {start_date} sampai {end_date}: {e}\")\n",
    "        continue\n",
    "\n",
    "# Gabungkan semua data menjadi satu dataframe\n",
    "final_df = pd.concat(all_data, ignore_index=True)\n",
    "\n",
    "# Tentukan path folder untuk menyimpan file\n",
    "folder_path = \"Data/\"  # Ganti dengan path yang sesuai\n",
    "\n",
    "# Cek apakah folder sudah ada, jika tidak maka buat foldernya\n",
    "if not os.path.exists(folder_path):\n",
    "    os.makedirs(folder_path)\n",
    "\n",
    "# Tentukan path lengkap untuk menyimpan file\n",
    "file_path = os.path.join(folder_path, \"Data_BMRI.xlsx\")\n",
    "\n",
    "# Simpan file ke Excel pada path yang ditentukan\n",
    "final_df.to_excel(file_path, index=False)\n",
    "\n",
    "print(f\"File berhasil disimpan di {file_path}\")"
   ]
  }
 ],
 "metadata": {
  "kernelspec": {
   "display_name": "DataMining",
   "language": "python",
   "name": "python3"
  },
  "language_info": {
   "codemirror_mode": {
    "name": "ipython",
    "version": 3
   },
   "file_extension": ".py",
   "mimetype": "text/x-python",
   "name": "python",
   "nbconvert_exporter": "python",
   "pygments_lexer": "ipython3",
   "version": "3.10.16"
  }
 },
 "nbformat": 4,
 "nbformat_minor": 5
}
