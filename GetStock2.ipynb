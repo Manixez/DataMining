{
 "cells": [
  {
   "cell_type": "code",
   "execution_count": null,
   "id": "b1796de9",
   "metadata": {},
   "outputs": [],
   "source": [
    "import yfinance as yf\n",
    "import pandas as pd\n",
    "import time\n",
    "import openpyxl\n",
    "from openpyxl.styles import PatternFill\n",
    "\n"
   ]
  },
  {
   "cell_type": "code",
   "execution_count": null,
   "id": "ef9d4a67",
   "metadata": {},
   "outputs": [
    {
     "name": "stdout",
     "output_type": "stream",
     "text": [
      "Terjadi kesalahan saat mengambil data untuk periode 2009-01-01 sampai 2009-12-31: Too Many Requests. Rate limited. Try after a while.\n",
      "Mencoba lagi setelah beberapa detik...\n",
      "Terjadi kesalahan saat mengambil data untuk periode 2009-01-01 sampai 2009-12-31: Too Many Requests. Rate limited. Try after a while.\n",
      "Mencoba lagi setelah beberapa detik...\n",
      "Terjadi kesalahan saat mengambil data untuk periode 2009-01-01 sampai 2009-12-31: Too Many Requests. Rate limited. Try after a while.\n",
      "Mencoba lagi setelah beberapa detik...\n",
      "Terjadi kesalahan saat mengambil data untuk periode 2009-01-01 sampai 2009-12-31: Too Many Requests. Rate limited. Try after a while.\n",
      "Mencoba lagi setelah beberapa detik...\n",
      "Terjadi kesalahan saat mengambil data untuk periode 2009-01-01 sampai 2009-12-31: Too Many Requests. Rate limited. Try after a while.\n",
      "Terjadi kesalahan setelah 5 kali percobaan, melewati periode ini.\n",
      "Terjadi kesalahan saat mengambil data untuk periode 2010-01-01 sampai 2010-12-31: Too Many Requests. Rate limited. Try after a while.\n",
      "Mencoba lagi setelah beberapa detik...\n",
      "Terjadi kesalahan saat mengambil data untuk periode 2010-01-01 sampai 2010-12-31: Too Many Requests. Rate limited. Try after a while.\n",
      "Mencoba lagi setelah beberapa detik...\n",
      "Terjadi kesalahan saat mengambil data untuk periode 2010-01-01 sampai 2010-12-31: Too Many Requests. Rate limited. Try after a while.\n",
      "Mencoba lagi setelah beberapa detik...\n",
      "Terjadi kesalahan saat mengambil data untuk periode 2010-01-01 sampai 2010-12-31: Too Many Requests. Rate limited. Try after a while.\n",
      "Mencoba lagi setelah beberapa detik...\n",
      "Terjadi kesalahan saat mengambil data untuk periode 2010-01-01 sampai 2010-12-31: Too Many Requests. Rate limited. Try after a while.\n",
      "Terjadi kesalahan setelah 5 kali percobaan, melewati periode ini.\n",
      "Terjadi kesalahan saat mengambil data untuk periode 2011-01-01 sampai 2011-12-31: Too Many Requests. Rate limited. Try after a while.\n",
      "Mencoba lagi setelah beberapa detik...\n",
      "Terjadi kesalahan saat mengambil data untuk periode 2011-01-01 sampai 2011-12-31: Too Many Requests. Rate limited. Try after a while.\n",
      "Mencoba lagi setelah beberapa detik...\n"
     ]
    }
   ],
   "source": []
  }
 ],
 "metadata": {
  "kernelspec": {
   "display_name": "DataMining",
   "language": "python",
   "name": "python3"
  },
  "language_info": {
   "codemirror_mode": {
    "name": "ipython",
    "version": 3
   },
   "file_extension": ".py",
   "mimetype": "text/x-python",
   "name": "python",
   "nbconvert_exporter": "python",
   "pygments_lexer": "ipython3",
   "version": "3.10.16"
  }
 },
 "nbformat": 4,
 "nbformat_minor": 5
}
